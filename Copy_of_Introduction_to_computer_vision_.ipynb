{
  "nbformat": 4,
  "nbformat_minor": 0,
  "metadata": {
    "colab": {
      "name": "Copy of Introduction to computer vision .ipynb",
      "provenance": [],
      "collapsed_sections": [],
      "authorship_tag": "ABX9TyON9GlCPeoMvhEHaHJjhoAo",
      "include_colab_link": true
    },
    "kernelspec": {
      "name": "python3",
      "display_name": "Python 3"
    }
  },
  "cells": [
    {
      "cell_type": "markdown",
      "metadata": {
        "id": "view-in-github",
        "colab_type": "text"
      },
      "source": [
        "<a href=\"https://colab.research.google.com/github/sonika1houji/EDA-on-McDonalds-dataset---DataScience/blob/master/Copy_of_Introduction_to_computer_vision_.ipynb\" target=\"_parent\"><img src=\"https://colab.research.google.com/assets/colab-badge.svg\" alt=\"Open In Colab\"/></a>"
      ]
    },
    {
      "cell_type": "markdown",
      "metadata": {
        "id": "SsgWGzXEKPCo"
      },
      "source": [
        "# A gentle introduction to computer vision"
      ]
    },
    {
      "cell_type": "markdown",
      "metadata": {
        "id": "7IyIl6VbHXU2"
      },
      "source": [
        " Computer Vision, often abbreviated as CV, is defined as a field of study that seeks to develop techniques to help computers “see” and understand the content of digital images such as photographs and videos. \n",
        " \n",
        " \n",
        "The problem of computer vision appears simple because it is trivially solved by people, even very young children. Nevertheless, it largely remains an unsolved problem based both on the limited understanding of biological vision and because of the complexity of vision perception in a dynamic and nearly infinitely varying physical world.\n",
        " \n",
        " \n",
        "In this post, you will discover a gentle introduction to the field of computer vision.\n",
        " \n",
        " \n",
        "After reading this post, you will know:\n",
        "The goal of the field of computer vision and its distinctness from image processing.What makes the problem of computer vision challenging.Typical problems or tasks pursued in computer vision. \n",
        "Let’s get started.\n",
        " \n",
        " \n",
        "Overview\n",
        "\n",
        "\n",
        "This tutorial is divided into four parts; they are:\n",
        " \n",
        "1.Desire for Computers to See\n",
        " \n",
        "2.What Is Computer Vision\n",
        " \n",
        "3.Challenge of Computer Vision\n",
        " \n",
        "4.Tasks in Computer Vision"
      ]
    },
    {
      "cell_type": "markdown",
      "metadata": {
        "id": "OVBosgjVKdFA"
      },
      "source": [
        "# Desire for computers to see"
      ]
    },
    {
      "cell_type": "markdown",
      "metadata": {
        "id": "N1nD8hmHIGil"
      },
      "source": [
        "\n",
        " \n",
        "We are awash in images.\n",
        " \n",
        " \n",
        "Smartphones have cameras, and taking a photo or video and sharing it has never been easier, resulting in the incredible growth of modern social networks like Instagram.\n",
        " \n",
        " \n",
        "YouTube might be the second largest search engine and hundreds of hours of video are uploaded every minute and billions of videos are watched every day.\n",
        " \n",
        " \n",
        "The internet is comprised of text and images. It is relatively straightforward to index and search text, but in order to index and search images, algorithms need to know what the images contain. For the longest time, the content of images and video has remained opaque, best described using the meta descriptions provided by the person that uploaded them.\n",
        " \n",
        " \n",
        "To get the most out of image data, we need computers to “see” an image and understand the content.\n",
        " \n",
        "This is a trivial problem for a human, even young children.\n",
        " \n",
        " \n",
        "1.A person can describe the content of a photograph they have seen once.\n",
        " \n",
        "2.A person can summarize a video that they have only seen once.\n",
        " \n",
        "3.A person can recognize a face that they have only seen once before.\n",
        " \n",
        " \n",
        "We require at least the same capabilities from computers in order to unlock our images and videos."
      ]
    },
    {
      "cell_type": "markdown",
      "metadata": {
        "id": "KwgrMpxXKr23"
      },
      "source": [
        "# What is computer vision?"
      ]
    },
    {
      "cell_type": "markdown",
      "metadata": {
        "id": "EUoc6xWWJAxM"
      },
      "source": [
        " \n",
        " \n",
        "Computer vision is a field of study focused on the problem of helping computers to see.\n",
        "At an abstract level, the goal of computer vision problems is to use the observed image data to infer something about the world.\n",
        "It is a multidisciplinary field that could broadly be called a subfield of artificial intelligence and machine learning, which may involve the use of specialized methods and make use of general learning algorithms.\n",
        " \n",
        "Overview of the Relationship of Artificial Intelligence and Computer Vision\n",
        "As a multidisciplinary area of study, it can look messy, with techniques borrowed and reused from a range of disparate engineering and computer science fields.\n",
        " \n",
        "One particular problem in vision may be easily addressed with a hand-crafted statistical method, whereas another may require a large and complex ensemble of generalized machine learning algorithms.\n",
        " \n",
        "Computer vision as a field is an intellectual frontier. Like any frontier, it is exciting and disorganized, and there is often no reliable authority to appeal to. Many useful ideas have no theoretical grounding, and some theories are useless in practice; developed areas are widely scattered, and often one looks completely inaccessible from the other.\n",
        "The goal of computer vision is to understand the content of digital images. Typically, this involves developing methods that attempt to reproduce the capability of human vision.\n",
        " \n",
        "Understanding the content of digital images may involve extracting a description from the image, which may be an object, a text description, a three-dimensional model, and so on.\n",
        "Computer vision is the automated extraction of information from images. Information can mean anything from 3D models, camera position, object detection and recognition to grouping and searching image content."
      ]
    },
    {
      "cell_type": "markdown",
      "metadata": {
        "id": "g13FcaKDLuEK"
      },
      "source": [
        "# Computer Vision and Image Processing"
      ]
    },
    {
      "cell_type": "markdown",
      "metadata": {
        "id": "dd3737erLQoa"
      },
      "source": [
        " Computer vision is distinct from image processing. Image processing is the process of creating a new image from an existing image, typically simplifying or enhancing the content in some way. It is a type of digital signal processing and is not concerned with understanding the content of an image. A given computer vision system may require image processing to be applied to raw input, e.g. pre-processing images.\n",
        "\n",
        "\n",
        "Examples of image processing include\n",
        " \n",
        "1.Normalizing photometric properties of the image, such as brightness or color.\n",
        "2.Cropping the bounds of the image, such as centering an object in a photograph.\n",
        "3.Removing digital noise from an image, such as digital artifacts from low light levels."
      ]
    }
  ]
}